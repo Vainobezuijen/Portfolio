{
 "cells": [
  {
   "cell_type": "code",
   "execution_count": null,
   "id": "0",
   "metadata": {},
   "outputs": [],
   "source": [
    "# !pip install pandas\n",
    "# !pip install matplotlib\n",
    "# !pip install scikit-learn\n",
    "# !pip install scipy\n",
    "import pandas as pd\n",
    "import matplotlib.pyplot as plt\n",
    "\n",
    "#Import data\n",
    "data = pd.read_csv('../dataset/masterdataframe.csv')\n",
    "columns = ['result', 'reach', 'height', 'age', 'knockdowns', 'takedowns_landed',\n",
    "           'sig_strikes_landed', 'total_strikes_landed', 'head_strikes_landed',\n",
    "           'body_strikes_landed', 'total_strikes_accuracy', 'head_strikes_accuracy',\n",
    "           'height_differential', 'sub_attempts']\n",
    "chosen_data = data[columns]\n",
    "\n",
    "#Generate correlation matrix\n",
    "correlation_matrix = chosen_data.corr()\n",
    "\n",
    "plt.figure(figsize=(10, 10))\n",
    "plt.imshow(correlation_matrix, cmap='coolwarm', interpolation='nearest')\n",
    "plt.colorbar(label='Correlation')\n",
    "plt.title('Correlation matrix MMA')\n",
    "plt.xticks(ticks=range(len(correlation_matrix.columns)), labels=correlation_matrix.columns, rotation=90)\n",
    "plt.yticks(ticks=range(len(correlation_matrix.index)), labels=correlation_matrix.index)\n",
    "for i in range(len(correlation_matrix.index)):\n",
    "    for j in range(len(correlation_matrix.columns)):\n",
    "        plt.text(j, i, f\"{correlation_matrix.iloc[i, j]:.2f}\", ha='center', va='center', color='black')\n",
    "plt.tight_layout()\n",
    "plt.show()"
   ]
  },
  {
   "cell_type": "code",
   "id": "1",
   "metadata": {},
   "outputs": [],
   "source": []
  }
 ],
 "metadata": {
  "kernelspec": {
   "display_name": "Python 3",
   "language": "python",
   "name": "python3"
  },
  "language_info": {
   "codemirror_mode": {
    "name": "ipython",
    "version": 2
   },
   "file_extension": ".py",
   "mimetype": "text/x-python",
   "name": "python",
   "nbconvert_exporter": "python",
   "pygments_lexer": "ipython2",
   "version": "2.7.6"
  }
 },
 "nbformat": 4,
 "nbformat_minor": 5
}
