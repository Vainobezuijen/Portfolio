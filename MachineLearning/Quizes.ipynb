{
 "cells": [
  {
   "cell_type": "code",
   "execution_count": null,
   "id": "0",
   "metadata": {},
   "outputs": [],
   "source": [
    "import torch\n",
    "import torch.nn as nn\n",
    "\n",
    "# Definieer de convolutielaag\n",
    "conv_layer = nn.Conv2d(in_channels=3, out_channels=3, kernel_size=3, stride=1, padding=2)\n",
    "\n",
    "# Bereken het aantal distincte gewichten\n",
    "num_weights = sum(p.numel() for p in conv_layer.parameters() if p.requires_grad)\n",
    "print(\"Distincte gewichten:\", num_weights)\n",
    "\n",
    "weight = torch.nn.Parameter(torch.ones_like(conv_layer.weight)).sum()\n",
    "print(weight)"
   ]
  },
  {
   "cell_type": "code",
   "id": "1",
   "metadata": {},
   "outputs": [],
   "source": []
  }
 ],
 "metadata": {
  "kernelspec": {
   "display_name": "Python 3",
   "language": "python",
   "name": "python3"
  },
  "language_info": {
   "codemirror_mode": {
    "name": "ipython",
    "version": 2
   },
   "file_extension": ".py",
   "mimetype": "text/x-python",
   "name": "python",
   "nbconvert_exporter": "python",
   "pygments_lexer": "ipython2",
   "version": "2.7.6"
  }
 },
 "nbformat": 4,
 "nbformat_minor": 5
}
