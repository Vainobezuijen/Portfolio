{
 "cells": [
  {
   "cell_type": "code",
   "execution_count": null,
   "metadata": {},
   "outputs": [],
   "source": [
    "import numpy as np\n",
    "import pandas as pd\n",
    "import matplotlib.pyplot as plt\n",
    "\n",
    "ufc = pd.read_csv(\"../dataset/masterdataframe.csv\")\n",
    "ufc.describe()\n"
   ]
  },
  {
   "cell_type": "code",
   "execution_count": null,
   "metadata": {},
   "outputs": [],
   "source": [
    "total_fights = len(ufc) / 2\n",
    "print(int(total_fights))"
   ]
  },
  {
   "cell_type": "code",
   "execution_count": null,
   "metadata": {},
   "outputs": [],
   "source": [
    "def get_sec(time_str):\n",
    "    \"\"\"\n",
    "    Divides the time string into total minutes.\n",
    "    param: time_str: time to be split up\n",
    "    returns: float of total minutes\n",
    "    \"\"\"\n",
    "    m,s = time_str.split(\":\")\n",
    "    seconds = float(m)*60 + float(s)\n",
    "    return int(seconds)"
   ]
  },
  {
   "cell_type": "code",
   "execution_count": null,
   "metadata": {},
   "outputs": [],
   "source": [
    "ufc[\"year\"] = pd.DatetimeIndex(ufc['date']).year\n",
    "fights_per_year = pd.DataFrame(ufc.groupby(\"year\")['result'].count()//2).rename(columns ={\"result\":\"fights per year\"})\n",
    "unique_years = ufc.year.unique()\n",
    "fights_per_year_plot = fights_per_year.plot(kind='line', title = 'Fights per year', ylabel='nr of fights')\n",
    "fights_per_year_plot.figure.savefig('Fights_ per_year')\n"
   ]
  },
  {
   "cell_type": "code",
   "execution_count": null,
   "metadata": {},
   "outputs": [],
   "source": [
    "fight_time_per_year_total = pd.DataFrame(ufc.groupby('year')['total_comp_time'].sum()/2/60)\n",
    "average_fight_time_per_year = fight_time_per_year_total['total_comp_time'] / fights_per_year['fights per year']\n",
    "average_fight_time_per_year_plot = average_fight_time_per_year.plot(ylabel='minutes', title = 'average fight time per year')\n",
    "average_fight_time_per_year_plot.figure.savefig('average_fight_time_per_year')"
   ]
  },
  {
   "cell_type": "code",
   "execution_count": null,
   "metadata": {},
   "outputs": [],
   "source": [
    "most_fights = ufc.groupby('fighter')['year'].count()\n",
    "print(most_fights)\n",
    "top_10_fights = most_fights.sort_values(ascending=True)[2251:]\n",
    "fighters_plot = top_10_fights.plot(kind='bar', title = 'Fighters with most fights', xlabel='fighter name', ylabel='nr of fights')\n",
    "fighters_plot.figure.savefig('fights_per_fighters')"
   ]
  },
  {
   "cell_type": "code",
   "execution_count": null,
   "metadata": {},
   "outputs": [],
   "source": [
    "results_per_fighter = ufc.groupby('fighter')['result'].sum()\n",
    "sig_attempts_per_fighter = ufc.groupby('fighter')['sig_strikes_attempts'].sum()\n",
    "\n",
    "sig_attempts_per_fighter_per_fight = sig_attempts_per_fighter / most_fights\n",
    "result_and_sig_attempts = results_per_fighter.to_frame().join(sig_attempts_per_fighter)\n",
    "print(result_and_sig_attempts)\n",
    "plt.scatter(result_and_sig_attempts[:,0], result_and_sig_attempts[:,1])"
   ]
  },
  {
   "cell_type": "code",
   "execution_count": null,
   "metadata": {},
   "outputs": [],
   "source": []
  }
 ],
 "metadata": {
  "kernelspec": {
   "display_name": "Python 3",
   "language": "python",
   "name": "python3"
  },
  "language_info": {
   "codemirror_mode": {
    "name": "ipython",
    "version": 3
   },
   "file_extension": ".py",
   "mimetype": "text/x-python",
   "name": "python",
   "nbconvert_exporter": "python",
   "pygments_lexer": "ipython3",
   "version": "3.12.0"
  }
 },
 "nbformat": 4,
 "nbformat_minor": 2
}
