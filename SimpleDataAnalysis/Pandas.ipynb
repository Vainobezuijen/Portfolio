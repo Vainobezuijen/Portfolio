{
 "cells": [
  {
   "cell_type": "code",
   "execution_count": 1,
   "metadata": {},
   "outputs": [
    {
     "name": "stdout",
     "output_type": "stream",
     "text": [
      "3.12.2 | packaged by conda-forge | (main, Feb 16 2024, 20:50:58) [GCC 12.3.0]\n",
      "pandas version 2.1.4\n"
     ]
    }
   ],
   "source": [
    "import pandas as pd\n",
    "import sys\n",
    "import pyarrow as pa\n",
    "import fastparquet as fp\n",
    "\n",
    "print(sys.version)\n",
    "print('pandas version', pd.__version__)"
   ]
  },
  {
   "cell_type": "code",
   "execution_count": 2,
   "metadata": {},
   "outputs": [],
   "source": [
    "df = pd.read_parquet('Combined_Flights_2022.parquet')"
   ]
  },
  {
   "cell_type": "code",
   "execution_count": null,
   "metadata": {},
   "outputs": [],
   "source": [
    "df"
   ]
  },
  {
   "cell_type": "code",
   "execution_count": null,
   "metadata": {},
   "outputs": [],
   "source": [
    "pd.set_option('display.max_columns', 500)\n",
    "df.head()\n",
    "df.tail()\n",
    "df.sample(frac= 0.1)"
   ]
  },
  {
   "cell_type": "code",
   "execution_count": null,
   "metadata": {},
   "outputs": [],
   "source": [
    "df.info()\n",
    "df.describe()"
   ]
  },
  {
   "cell_type": "code",
   "execution_count": null,
   "metadata": {},
   "outputs": [],
   "source": [
    "df[['FlightDate','Airline','Origin']]"
   ]
  },
  {
   "cell_type": "code",
   "execution_count": null,
   "metadata": {},
   "outputs": [],
   "source": [
    "df[df.columns[:5]]"
   ]
  },
  {
   "cell_type": "code",
   "execution_count": null,
   "metadata": {},
   "outputs": [],
   "source": [
    "df[[c for c in df.columns if 'Time' in c]]\n",
    "#df['Airline] returns series\n",
    "#df[[\"Airline\"]] returns dataframe\n",
    "\n",
    "df.iloc[[1,3]] #uses index loc\n",
    "df.iloc[1,3]\n",
    "df.iloc[:, [1,6]]\n",
    "df.loc[:, ['Airline','Origin']] #uses name\n",
    "df.loc[~(df['Airline'] == 'Spirit Air Lines') \n",
    "        & (df['FlightDate'] == '2022-04-04')]\n",
    "df.loc[df['DepTime'].between(0,101, inclusive='left')]\n",
    "df.query('(DepTime > 1130) and (Origin == \"DRO\")')"
   ]
  },
  {
   "cell_type": "code",
   "execution_count": null,
   "metadata": {},
   "outputs": [],
   "source": [
    "df['DepTime'].mean()\n",
    "df['DepTime'].max()\n",
    "df['DepTime'].min()\n",
    "df['DepTime'].std()\n",
    "df['DepTime'].var()\n",
    "df['DepTime'].count()\n",
    "df['DepTime'].sum()\n",
    "df[['DepTime','ArrDelay']].quantile([0.25, 0.75])\n",
    "df[['DepTime','ArrDelay']].agg(['mean', 'min'])\n",
    "df[['DepTime','ArrDelay']].agg({'DepTime': ['min','max'],\n",
    "                                'ArrDelay': ['count', 'sum']})"
   ]
  },
  {
   "cell_type": "code",
   "execution_count": null,
   "metadata": {},
   "outputs": [],
   "source": [
    "df['Airline'].unique()\n",
    "df['Airline'].nunique()\n",
    "df[['Airline', 'Origin']].value_counts(normalize=True)\n",
    "df[['CRSDepTime']].rank(method='first') #method='dense'\n",
    "df[['Airline']].shift(1, fill_value=8)\n",
    "df[['Airline']].cumsum() #.cummax() / .cummin()\n",
    "df[['Airline']].rolling(window=5).mean() > crashes :()"
   ]
  },
  {
   "cell_type": "code",
   "execution_count": null,
   "metadata": {},
   "outputs": [],
   "source": [
    "df['DepTime'].clip(1000,2000)"
   ]
  },
  {
   "cell_type": "code",
   "execution_count": null,
   "metadata": {},
   "outputs": [],
   "source": [
    "df_agg = df.groupby('Airline')[['DepDelay','ArrDelay']].agg(['mean','min','max'])\n",
    "#df_agg.columns.to_flat_index() #convert to list of tuples\n",
    "for c in df_agg.columns:\n",
    "    print(c)\n",
    "df_agg.columns = ['_'.join(c) for c in df_agg.columns]\n",
    "df_agg.columns\n",
    "df_agg"
   ]
  },
  {
   "cell_type": "code",
   "execution_count": null,
   "metadata": {},
   "outputs": [],
   "source": [
    "df['DepTime2'] = df['DepTime'] / 60\n",
    "df.head()"
   ]
  },
  {
   "cell_type": "code",
   "execution_count": null,
   "metadata": {},
   "outputs": [],
   "source": [
    "df.assign(DepTime3 = df['DepTime'] / 2)"
   ]
  },
  {
   "cell_type": "code",
   "execution_count": null,
   "metadata": {},
   "outputs": [],
   "source": [
    "df.sort_values('ArrDelay')\n",
    "df[['FlightDate', 'Airline', 'ArrDelay']].sort_values('ArrDelay', ascending = False) \\\n",
    "    .reset_index(drop=True)"
   ]
  },
  {
   "cell_type": "code",
   "execution_count": null,
   "metadata": {},
   "outputs": [],
   "source": [
    "df[['FlightDate', 'Airline', 'ArrDelay']].isna().sum()"
   ]
  },
  {
   "cell_type": "code",
   "execution_count": null,
   "metadata": {},
   "outputs": [],
   "source": [
    "#df[['FlightDate', 'Airline', 'ArrDelay']].dropna(subset=['ArrDelay'])\n",
    "df['ArrDelay'].fillna(df['ArrDelay'].mean())"
   ]
  },
  {
   "cell_type": "code",
   "execution_count": null,
   "metadata": {},
   "outputs": [],
   "source": [
    "df1 = df.query('Airline == \"Southwest Airlines Co.\"').copy()\n",
    "df2 = df.query('Airline == \"Delta Air Lines Inc.\"').copy()\n",
    "\n",
    "pd.concat([df1,df2])"
   ]
  },
  {
   "cell_type": "code",
   "execution_count": null,
   "metadata": {},
   "outputs": [],
   "source": [
    "df1 = df.groupby(['Airline', 'FlightDate'])[['DepDelay']].mean().reset_index()\n",
    "df2 = df.groupby(['Airline', 'FlightDate'])[['ArrDelay']].mean().reset_index()\n",
    "\n",
    "df1.merge(df2, how='left')\n",
    "#pd.merge(df1, df2, on = ['Airline','FlightDate], suffixes=('_dep','_arr'))"
   ]
  }
 ],
 "metadata": {
  "kernelspec": {
   "display_name": "base",
   "language": "python",
   "name": "python3"
  },
  "language_info": {
   "codemirror_mode": {
    "name": "ipython",
    "version": 3
   },
   "file_extension": ".py",
   "mimetype": "text/x-python",
   "name": "python",
   "nbconvert_exporter": "python",
   "pygments_lexer": "ipython3",
   "version": "3.12.2"
  }
 },
 "nbformat": 4,
 "nbformat_minor": 2
}
